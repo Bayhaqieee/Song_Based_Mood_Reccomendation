{
 "cells": [
  {
   "cell_type": "code",
   "execution_count": 3,
   "metadata": {},
   "outputs": [],
   "source": [
    "import pandas as pd\n",
    "import numpy as np\n",
    "import tensorflow as tf\n",
    "from sklearn.model_selection import train_test_split\n",
    "\n",
    "tokenizer = tf.keras.preprocessing.text.Tokenizer\n",
    "utils = tf.keras.utils\n",
    "\n",
    "# Load the dataset\n",
    "df = pd.read_csv('cleaned_genres.csv')\n",
    "\n",
    "# Assuming 'Genres' column contains the genre data\n",
    "texts = df['Genres'].astype(str).tolist()\n",
    "\n",
    "# Preprocessing\n",
    "texts = [text.lower() for text in texts]  # Convert to lowercase\n"
   ]
  },
  {
   "cell_type": "code",
   "execution_count": null,
   "metadata": {},
   "outputs": [],
   "source": []
  }
 ],
 "metadata": {
  "kernelspec": {
   "display_name": "Python 3",
   "language": "python",
   "name": "python3"
  },
  "language_info": {
   "codemirror_mode": {
    "name": "ipython",
    "version": 3
   },
   "file_extension": ".py",
   "mimetype": "text/x-python",
   "name": "python",
   "nbconvert_exporter": "python",
   "pygments_lexer": "ipython3",
   "version": "3.12.3"
  }
 },
 "nbformat": 4,
 "nbformat_minor": 2
}
