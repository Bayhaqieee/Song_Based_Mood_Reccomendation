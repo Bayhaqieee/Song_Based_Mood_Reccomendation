{
 "cells": [
  {
   "cell_type": "code",
   "execution_count": 1,
   "metadata": {},
   "outputs": [],
   "source": [
    "import pandas as pd\n",
    "import numpy as np\n",
    "from sklearn.preprocessing import StandardScaler\n",
    "from sklearn.neighbors import NearestNeighbors"
   ]
  },
  {
   "cell_type": "code",
   "execution_count": 2,
   "metadata": {},
   "outputs": [
    {
     "name": "stdout",
     "output_type": "stream",
     "text": [
      "<class 'pandas.core.frame.DataFrame'>\n",
      "RangeIndex: 26752 entries, 0 to 26751\n",
      "Data columns (total 22 columns):\n",
      " #   Column            Non-Null Count  Dtype  \n",
      "---  ------            --------------  -----  \n",
      " 0   Artist Name       26752 non-null  object \n",
      " 1   Track Name        26752 non-null  object \n",
      " 2   Popularity        26752 non-null  int64  \n",
      " 3   Genres            26752 non-null  object \n",
      " 4   Playlist          26752 non-null  object \n",
      " 5   danceability      26752 non-null  float64\n",
      " 6   energy            26752 non-null  float64\n",
      " 7   key               26752 non-null  int64  \n",
      " 8   loudness          26752 non-null  float64\n",
      " 9   mode              26752 non-null  int64  \n",
      " 10  speechiness       26752 non-null  float64\n",
      " 11  acousticness      26752 non-null  float64\n",
      " 12  instrumentalness  26752 non-null  float64\n",
      " 13  liveness          26752 non-null  float64\n",
      " 14  valence           26752 non-null  float64\n",
      " 15  tempo             26752 non-null  float64\n",
      " 16  id                26752 non-null  object \n",
      " 17  uri               26752 non-null  object \n",
      " 18  track_href        26752 non-null  object \n",
      " 19  analysis_url      26752 non-null  object \n",
      " 20  duration_ms       26752 non-null  int64  \n",
      " 21  time_signature    26752 non-null  int64  \n",
      "dtypes: float64(9), int64(5), object(8)\n",
      "memory usage: 4.5+ MB\n",
      "None\n"
     ]
    }
   ],
   "source": [
    "# List of dataset filenames\n",
    "files = [\n",
    "    'alternative_music_data.csv', \n",
    "    'blues_music_data.csv', \n",
    "    'hiphop_music_data.csv',\n",
    "    'indie_alt_music_data.csv',\n",
    "    'metal_music_data.csv', \n",
    "    'pop_music_data.csv', \n",
    "    'rock_music_data.csv'\n",
    "]\n",
    "\n",
    "# Load and concatenate all datasets into a single DataFrame\n",
    "data = pd.concat([pd.read_csv(f) for f in files], ignore_index=True)\n",
    "\n",
    "# Check the combined dataset\n",
    "print(data.info())  # To verify the shape and structure of the data"
   ]
  },
  {
   "cell_type": "code",
   "execution_count": null,
   "metadata": {},
   "outputs": [],
   "source": []
  }
 ],
 "metadata": {
  "kernelspec": {
   "display_name": "Python 3",
   "language": "python",
   "name": "python3"
  },
  "language_info": {
   "codemirror_mode": {
    "name": "ipython",
    "version": 3
   },
   "file_extension": ".py",
   "mimetype": "text/x-python",
   "name": "python",
   "nbconvert_exporter": "python",
   "pygments_lexer": "ipython3",
   "version": "3.12.3"
  }
 },
 "nbformat": 4,
 "nbformat_minor": 2
}
