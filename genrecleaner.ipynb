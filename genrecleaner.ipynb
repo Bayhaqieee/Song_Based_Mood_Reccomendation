{
 "cells": [
  {
   "cell_type": "code",
   "execution_count": 1,
   "metadata": {},
   "outputs": [],
   "source": [
    "import pandas as pd\n",
    "import ast"
   ]
  },
  {
   "cell_type": "code",
   "execution_count": 2,
   "metadata": {},
   "outputs": [],
   "source": [
    "# Load the dataset\n",
    "genres_df = pd.read_csv('genres.csv')\n",
    "\n",
    "# Ensure the 'Genres' column is in string format\n",
    "genres_df['Genres'] = genres_df['Genres'].astype(str)"
   ]
  },
  {
   "cell_type": "code",
   "execution_count": 3,
   "metadata": {},
   "outputs": [],
   "source": [
    "# Function to convert string representation of list to actual list\n",
    "def parse_genre_list(genre_str):\n",
    "    try:\n",
    "        genre_list = ast.literal_eval(genre_str)\n",
    "        if isinstance(genre_list, list):\n",
    "            return genre_list\n",
    "        else:\n",
    "            return []\n",
    "    except (ValueError, SyntaxError):\n",
    "        return []\n",
    "\n",
    "# Apply the function to the 'Genres' column\n",
    "genres_df['Genres'] = genres_df['Genres'].apply(parse_genre_list)\n",
    "\n",
    "# Flatten the list of lists into a single list of genres\n",
    "all_genres = [genre for sublist in genres_df['Genres'] for genre in sublist]"
   ]
  },
  {
   "cell_type": "code",
   "execution_count": 4,
   "metadata": {},
   "outputs": [],
   "source": [
    "# Remove duplicates and sort the list\n",
    "unique_genres = sorted(set(all_genres))\n",
    "\n",
    "# Create a DataFrame with unique genres\n",
    "unique_genres_df = pd.DataFrame(unique_genres, columns=['Unique Genres'])"
   ]
  },
  {
   "cell_type": "code",
   "execution_count": 5,
   "metadata": {},
   "outputs": [
    {
     "name": "stdout",
     "output_type": "stream",
     "text": [
      "Unique genres have been saved to 'cleaned_genres.csv'.\n"
     ]
    }
   ],
   "source": [
    "unique_genres_df.to_csv('cleaned_genres.csv', index=False)\n",
    "\n",
    "print(\"Unique genres have been saved to 'cleaned_genres.csv'.\")"
   ]
  },
  {
   "cell_type": "code",
   "execution_count": null,
   "metadata": {},
   "outputs": [],
   "source": []
  }
 ],
 "metadata": {
  "kernelspec": {
   "display_name": "Python 3",
   "language": "python",
   "name": "python3"
  },
  "language_info": {
   "codemirror_mode": {
    "name": "ipython",
    "version": 3
   },
   "file_extension": ".py",
   "mimetype": "text/x-python",
   "name": "python",
   "nbconvert_exporter": "python",
   "pygments_lexer": "ipython3",
   "version": "3.12.3"
  }
 },
 "nbformat": 4,
 "nbformat_minor": 2
}
