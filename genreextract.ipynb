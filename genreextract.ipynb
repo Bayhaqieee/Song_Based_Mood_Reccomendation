{
 "cells": [
  {
   "cell_type": "code",
   "execution_count": 1,
   "metadata": {},
   "outputs": [],
   "source": [
    "import pandas as pd"
   ]
  },
  {
   "cell_type": "code",
   "execution_count": 2,
   "metadata": {},
   "outputs": [],
   "source": [
    "# List of dataset filenames\n",
    "files = [\n",
    "    'alternative_music_data.csv', \n",
    "    'blues_music_data.csv', \n",
    "    'hiphop_music_data.csv',\n",
    "    'indie_alt_music_data.csv',\n",
    "    'metal_music_data.csv', \n",
    "    'pop_music_data.csv', \n",
    "    'rock_music_data.csv'\n",
    "]\n",
    "\n",
    "# Load and concatenate only the 'Genres' column from each dataset\n",
    "genres_data = pd.concat([pd.read_csv(f)[['Genres']] for f in files], ignore_index=True)\n",
    "\n",
    "# Remove duplicates to get unique genres\n",
    "unique_genres = genres_data['Genres'].drop_duplicates().reset_index(drop=True)"
   ]
  },
  {
   "cell_type": "code",
   "execution_count": null,
   "metadata": {},
   "outputs": [],
   "source": []
  }
 ],
 "metadata": {
  "kernelspec": {
   "display_name": "Python 3",
   "language": "python",
   "name": "python3"
  },
  "language_info": {
   "codemirror_mode": {
    "name": "ipython",
    "version": 3
   },
   "file_extension": ".py",
   "mimetype": "text/x-python",
   "name": "python",
   "nbconvert_exporter": "python",
   "pygments_lexer": "ipython3",
   "version": "3.12.3"
  }
 },
 "nbformat": 4,
 "nbformat_minor": 2
}
