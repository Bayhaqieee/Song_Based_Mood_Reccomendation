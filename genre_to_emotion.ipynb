{
 "cells": [
  {
   "cell_type": "code",
   "execution_count": 40,
   "metadata": {},
   "outputs": [],
   "source": [
    "import pandas as pd\n",
    "import ast\n",
    "from sklearn.feature_extraction.text import CountVectorizer\n",
    "from sklearn.preprocessing import StandardScaler\n",
    "from sklearn.neighbors import NearestNeighbors\n",
    "from sklearn.model_selection import train_test_split\n",
    "from sklearn.naive_bayes import MultinomialNB\n",
    "from sklearn.pipeline import make_pipeline\n",
    "from sklearn.metrics import accuracy_score"
   ]
  },
  {
   "cell_type": "code",
   "execution_count": 41,
   "metadata": {},
   "outputs": [],
   "source": [
    "# Load the cleaned genres dataset\n",
    "genres_df = pd.read_csv('cleaned_genres.csv')"
   ]
  },
  {
   "cell_type": "code",
   "execution_count": 42,
   "metadata": {},
   "outputs": [],
   "source": [
    "# Expanded Genre to Emotion Mapping\n",
    "\n",
    "emotion_mapping = {\n",
    "    # Indie genres\n",
    "    \"indie psych-pop\": [\"dreamy\", \"uplifting\", \"psychedelic\", \"hopeful\"],\n",
    "    \"indie psychedelic rock\": [\"trippy\", \"adventurous\", \"surreal\", \"free-spirited\"],\n",
    "    \"indie punk\": [\"rebellious\", \"energetic\", \"angsty\", \"defiant\"],\n",
    "    \"indie quebecois\": [\"introspective\", \"moody\", \"melancholic\", \"artistic\"],\n",
    "    \"indie r&b\": [\"sensual\", \"soulful\", \"smooth\", \"romantic\"],\n",
    "    \"indie rock\": [\"youthful\", \"exploratory\", \"confident\", \"laid-back\"],\n",
    "    \"indie shoegaze\": [\"ethereal\", \"nostalgic\", \"dreamlike\", \"distant\"],\n",
    "    \n",
    "    # Indonesian genres\n",
    "    \"indonesian blues\": [\"soulful\", \"reflective\", \"melancholy\", \"warm\"],\n",
    "    \"indonesian electronic\": [\"energized\", \"hypnotic\", \"futuristic\", \"immersive\"],\n",
    "    \"indonesian experimental\": [\"abstract\", \"unpredictable\", \"unconventional\", \"thought-provoking\"],\n",
    "    \"indonesian hip hop\": [\"gritty\", \"motivational\", \"bold\", \"authentic\"],\n",
    "    \"indonesian indie\": [\"nostalgic\", \"dreamy\", \"relaxed\", \"introspective\"],\n",
    "    \n",
    "    # Industrial genres\n",
    "    \"industrial black metal\": [\"intense\", \"dark\", \"aggressive\", \"raw\"],\n",
    "    \"industrial hip hop\": [\"edgy\", \"rebellious\", \"mechanical\", \"futuristic\"],\n",
    "    \"industrial metal\": [\"powerful\", \"chaotic\", \"energetic\", \"intense\"],\n",
    "    \n",
    "    # Instrumental genres\n",
    "    \"instrumental bluegrass\": [\"optimistic\", \"uplifting\", \"joyful\", \"earthy\"],\n",
    "    \"instrumental death metal\": [\"dark\", \"complex\", \"aggressive\", \"melancholic\"],\n",
    "    \"instrumental funk\": [\"groovy\", \"playful\", \"upbeat\", \"cool\"],\n",
    "    \"instrumental post-rock\": [\"reflective\", \"expansive\", \"cinematic\", \"meditative\"],\n",
    "    \n",
    "    # Irish genres\n",
    "    \"irish black metal\": [\"dark\", \"intense\", \"mysterious\", \"melancholic\"],\n",
    "    \"irish folk\": [\"warm\", \"joyful\", \"storytelling\", \"nostalgic\"],\n",
    "    \"irish indie rock\": [\"melancholic\", \"youthful\", \"free-spirited\", \"contemplative\"],\n",
    "    \n",
    "    # Italian genres\n",
    "    \"italian hip hop\": [\"energetic\", \"bold\", \"motivational\", \"streetwise\"],\n",
    "    \"italian indie pop\": [\"dreamy\", \"romantic\", \"melancholic\", \"youthful\"],\n",
    "    \"italian gothic metal\": [\"dark\", \"dramatic\", \"haunting\", \"intense\"],\n",
    "    \"italian pop\": [\"vibrant\", \"romantic\", \"uplifting\", \"joyful\"],\n",
    "    \n",
    "    # J-pop and K-pop\n",
    "    \"j-pop\": [\"energetic\", \"colorful\", \"cheerful\", \"youthful\"],\n",
    "    \"j-rock\": [\"dynamic\", \"intense\", \"empowering\", \"youthful\"],\n",
    "    \"k-pop\": [\"catchy\", \"energetic\", \"bright\", \"cheerful\"],\n",
    "    \"k-rap\": [\"bold\", \"confident\", \"motivational\", \"streetwise\"],\n",
    "    \n",
    "    # Latin genres\n",
    "    \"latin pop\": [\"romantic\", \"passionate\", \"uplifting\", \"vibrant\"],\n",
    "    \"latin rock\": [\"intense\", \"energetic\", \"rebellious\", \"passionate\"],\n",
    "    \"latin jazz\": [\"sophisticated\", \"smooth\", \"soulful\", \"relaxed\"],\n",
    "    \n",
    "    # Metal genres\n",
    "    \"melodic death metal\": [\"intense\", \"melancholic\", \"complex\", \"emotional\"],\n",
    "    \"melodic metalcore\": [\"aggressive\", \"empowering\", \"dramatic\", \"bold\"],\n",
    "    \"progressive metal\": [\"complex\", \"introspective\", \"expansive\", \"cerebral\"],\n",
    "    \n",
    "    # Neo-soul and R&B\n",
    "    \"neo soul\": [\"soulful\", \"romantic\", \"smooth\", \"reflective\"],\n",
    "    \"r&b\": [\"sensual\", \"romantic\", \"smooth\", \"intimate\"],\n",
    "    \n",
    "    # Electronic genres\n",
    "    \"synthwave\": [\"nostalgic\", \"futuristic\", \"dreamy\", \"energizing\"],\n",
    "    \"tech house\": [\"groovy\", \"hypnotic\", \"steady\", \"energetic\"],\n",
    "    \"trance\": [\"uplifting\", \"euphoric\", \"dreamlike\", \"energized\"],\n",
    "    \n",
    "    # Rock and Punk\n",
    "    \"punk rock\": [\"rebellious\", \"raw\", \"energetic\", \"angsty\"],\n",
    "    \"classic rock\": [\"nostalgic\", \"powerful\", \"free-spirited\", \"empowering\"],\n",
    "    \"progressive rock\": [\"introspective\", \"complex\", \"expansive\", \"dreamy\"],\n",
    "    \n",
    "    # Blues and Jazz\n",
    "    \"blues\": [\"soulful\", \"melancholic\", \"reflective\", \"warm\"],\n",
    "    \"jazz\": [\"sophisticated\", \"relaxed\", \"smooth\", \"improvisational\"],\n",
    "    \"jazz fusion\": [\"dynamic\", \"complex\", \"innovative\", \"cerebral\"],\n",
    "    \n",
    "    # Other genres\n",
    "    \"folk\": [\"earthy\", \"nostalgic\", \"storytelling\", \"heartwarming\"],\n",
    "    \"lo-fi beats\": [\"chill\", \"relaxed\", \"introspective\", \"soothing\"],\n",
    "    \"world music\": [\"vibrant\", \"cultural\", \"expansive\", \"dynamic\"],\n",
    "    \n",
    "    # Hip hop and Rap\n",
    "    \"hip hop\": [\"bold\", \"motivational\", \"streetwise\", \"intense\"],\n",
    "    \"trap\": [\"edgy\", \"dark\", \"gritty\", \"empowering\"],\n",
    "    \"conscious rap\": [\"thought-provoking\", \"introspective\", \"serious\", \"emotive\"],\n",
    "    \n",
    "    # Pop\n",
    "    \"pop\": [\"catchy\", \"uplifting\", \"bright\", \"cheerful\"],\n",
    "    \"dream pop\": [\"ethereal\", \"dreamlike\", \"introspective\", \"romantic\"],\n",
    "    \"pop rock\": [\"youthful\", \"empowering\", \"vibrant\", \"feel-good\"],\n",
    "    \n",
    "    # Classical and Orchestral\n",
    "    \"neo-classical\": [\"reflective\", \"emotional\", \"melancholic\", \"expansive\"],\n",
    "    \"orchestral\": [\"dramatic\", \"epic\", \"emotional\", \"cinematic\"]\n",
    "}"
   ]
  },
  {
   "cell_type": "code",
   "execution_count": 43,
   "metadata": {},
   "outputs": [],
   "source": [
    "# Add more genres from the new list provided\n",
    "additional_genres = pd.read_csv('cleaned_genres.csv')\n",
    "\n",
    "# Extend the emotion_genre_map with additional genres\n",
    "for genre in additional_genres:\n",
    "    if genre not in emotion_mapping:\n",
    "        # Assign default or common emotional tags if specific ones are not provided\n",
    "        emotion_mapping[genre] = \"varied emotions, alternative, branch genre\""
   ]
  },
  {
   "cell_type": "code",
   "execution_count": 44,
   "metadata": {},
   "outputs": [],
   "source": [
    "# List of dataset filenames\n",
    "files = [\n",
    "    'alternative_music_data.csv', \n",
    "    'blues_music_data.csv', \n",
    "    'hiphop_music_data.csv',\n",
    "    'indie_alt_music_data.csv',\n",
    "    'metal_music_data.csv', \n",
    "    'pop_music_data.csv', \n",
    "    'rock_music_data.csv'\n",
    "]\n",
    "\n",
    "# Load each CSV file into a DataFrame and store in a list\n",
    "dataframes = [pd.read_csv(file) for file in files]\n",
    "\n",
    "# Combine all DataFrames into a single DataFrame\n",
    "data = pd.concat(dataframes, ignore_index=True)"
   ]
  },
  {
   "cell_type": "code",
   "execution_count": 45,
   "metadata": {},
   "outputs": [
    {
     "name": "stdout",
     "output_type": "stream",
     "text": [
      "Index(['Artist Name', 'Track Name', 'Popularity', 'Genres', 'Playlist',\n",
      "       'danceability', 'energy', 'key', 'loudness', 'mode', 'speechiness',\n",
      "       'acousticness', 'instrumentalness', 'liveness', 'valence', 'tempo',\n",
      "       'id', 'uri', 'track_href', 'analysis_url', 'duration_ms',\n",
      "       'time_signature'],\n",
      "      dtype='object')\n"
     ]
    }
   ],
   "source": [
    "print(data.columns)"
   ]
  },
  {
   "cell_type": "code",
   "execution_count": 46,
   "metadata": {},
   "outputs": [
    {
     "ename": "ValueError",
     "evalue": "The 'genres' column is missing in the dataset.",
     "output_type": "error",
     "traceback": [
      "\u001b[1;31m---------------------------------------------------------------------------\u001b[0m",
      "\u001b[1;31mValueError\u001b[0m                                Traceback (most recent call last)",
      "Cell \u001b[1;32mIn[46], line 9\u001b[0m\n\u001b[0;32m      7\u001b[0m \u001b[38;5;66;03m# Ensure that the 'genre' column exists in your data\u001b[39;00m\n\u001b[0;32m      8\u001b[0m \u001b[38;5;28;01mif\u001b[39;00m \u001b[38;5;124m'\u001b[39m\u001b[38;5;124mgenres\u001b[39m\u001b[38;5;124m'\u001b[39m \u001b[38;5;129;01mnot\u001b[39;00m \u001b[38;5;129;01min\u001b[39;00m data\u001b[38;5;241m.\u001b[39mcolumns:\n\u001b[1;32m----> 9\u001b[0m     \u001b[38;5;28;01mraise\u001b[39;00m \u001b[38;5;167;01mValueError\u001b[39;00m(\u001b[38;5;124m\"\u001b[39m\u001b[38;5;124mThe \u001b[39m\u001b[38;5;124m'\u001b[39m\u001b[38;5;124mgenres\u001b[39m\u001b[38;5;124m'\u001b[39m\u001b[38;5;124m column is missing in the dataset.\u001b[39m\u001b[38;5;124m\"\u001b[39m)\n",
      "\u001b[1;31mValueError\u001b[0m: The 'genres' column is missing in the dataset."
     ]
    }
   ],
   "source": [
    "# Convert 'genres' column from string representation of list to actual list\n",
    "data['Genres'] = data['Genres'].apply(lambda x: ast.literal_eval(x) if isinstance(x, str) else x)\n",
    "\n",
    "# Define the features including genre\n",
    "features = ['danceability', 'energy', 'valence', 'tempo', 'genres']\n",
    "\n",
    "# Ensure that the 'genre' column exists in your data\n",
    "if 'genres' not in data.columns:\n",
    "    raise ValueError(\"The 'genres' column is missing in the dataset.\")"
   ]
  },
  {
   "cell_type": "code",
   "execution_count": null,
   "metadata": {},
   "outputs": [],
   "source": []
  }
 ],
 "metadata": {
  "kernelspec": {
   "display_name": "Python 3",
   "language": "python",
   "name": "python3"
  },
  "language_info": {
   "codemirror_mode": {
    "name": "ipython",
    "version": 3
   },
   "file_extension": ".py",
   "mimetype": "text/x-python",
   "name": "python",
   "nbconvert_exporter": "python",
   "pygments_lexer": "ipython3",
   "version": "3.12.3"
  }
 },
 "nbformat": 4,
 "nbformat_minor": 2
}
